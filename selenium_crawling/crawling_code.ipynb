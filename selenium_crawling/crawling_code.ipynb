{
 "cells": [
  {
   "cell_type": "markdown",
   "id": "9ac8cb85-5211-4b9d-a940-c5d817724751",
   "metadata": {},
   "source": [
    "# 모듈 임포트"
   ]
  },
  {
   "cell_type": "code",
   "execution_count": 1,
   "id": "db56364c-9ee7-47ba-a71a-9b67ca8c9e64",
   "metadata": {},
   "outputs": [],
   "source": [
    "from selenium import webdriver\n",
    "from selenium.webdriver.common.keys import Keys\n",
    "import time\n",
    "import os\n",
    "import requests\n",
    "from PIL import Image\n",
    "import io\n",
    "import numpy as np\n",
    "import pandas as pd\n",
    "from selenium.webdriver.common.keys import Keys\n",
    "from selenium.webdriver.common.by import By"
   ]
  },
  {
   "cell_type": "markdown",
   "id": "dc2630ab-cb64-4629-b002-30c26ab7bb20",
   "metadata": {},
   "source": [
    "# chromed driver 불러오기"
   ]
  },
  {
   "cell_type": "code",
   "execution_count": 2,
   "id": "a49fc3d2-23cc-400f-b749-a1a7a06b96b7",
   "metadata": {},
   "outputs": [],
   "source": [
    "os.chmod('/Users/jeongdaegyun/Desktop/Musinsa/selenium_crawling/chromedriver_mac_arm64/chromedriver', 0o755)\n",
    "\n",
    "driver = webdriver.Chrome(executable_path=\"./chromedriver_mac_arm64/chromedriver\")"
   ]
  },
  {
   "cell_type": "markdown",
   "id": "cb7e2a2b-233f-4890-add6-d8322433d5c8",
   "metadata": {},
   "source": [
    "# 무신사 코디맵으로 이동"
   ]
  },
  {
   "cell_type": "code",
   "execution_count": 3,
   "id": "6c70de1f-9324-40be-9451-381988111220",
   "metadata": {},
   "outputs": [],
   "source": [
    "driver.get(\"https://store.musinsa.com/app/codimap/lists?style_type=&tag_no=&brand=&display_cnt=60&list_kind=big&sort=date&page=1\")\n",
    "driver.implicitly_wait(3)"
   ]
  },
  {
   "cell_type": "markdown",
   "id": "9cc23a6b-cbfb-4273-be7f-e7bf475d9a35",
   "metadata": {},
   "source": [
    "# 데이터프레임의 한 행에 해당하는 샘플을 추출하는 함수"
   ]
  },
  {
   "cell_type": "code",
   "execution_count": 4,
   "id": "9b7edc81-7073-4779-bfde-99170008e24a",
   "metadata": {},
   "outputs": [],
   "source": [
    "# num: 한 페이지의 코디는 1~60까지 인덱싱되어있음 \n",
    "# img_name: 저장할 이미지의 이름\n",
    "# path: 저장할 경로 (기본은 같은 경로의 image라는 폴더)\n",
    "\n",
    "def get_sample(num, img_name = None, path = './image'):\n",
    "    \n",
    "    # sample이 담길 list\n",
    "    data = []\n",
    "    \n",
    "    # 페이지 이동\n",
    "    element = driver.find_element(By.XPATH, f'/html/body/div[3]/div[3]/form/div[4]/div/ul/li[{num}]/div[2]/a/strong')\n",
    "    driver.execute_script(\"arguments[0].click();\", element)\n",
    "    \n",
    "    # 제목 추출\n",
    "    title = driver.find_element(By.XPATH, '//*[@id=\"style_info\"]/h2').text\n",
    "    \n",
    "    # 코디에 대한 해시태그 추출\n",
    "    num_hash = len(driver.find_elements_by_class_name(\"ui-tag-list__item\"))\n",
    "    hashtag_list = []\n",
    "\n",
    "    for i in range(1, num_hash+1):\n",
    "        hashtag_list.append(driver.find_element(By.XPATH, f'//*[@id=\"style_info\"]/div[1]/div/a[{i}]').text[1:])\n",
    "        \n",
    "    \n",
    "    \n",
    "    if img_name == None:\n",
    "        raise Exception('img_name 인자가 없습니다!')\n",
    "    else:    \n",
    "        #이미지 url 추출\n",
    "        src = driver.find_element(By.CLASS_NAME, 'photo').get_attribute('src')\n",
    "\n",
    "        # GET 요청으로 이미지 데이터 가져오기\n",
    "        response = requests.get(src)\n",
    "\n",
    "        # 가져온 데이터를 이미지 파일로 변환하기\n",
    "        image = Image.open(io.BytesIO(response.content))\n",
    "\n",
    "        # 이미지 파일로 저장하기\n",
    "        image.save(path+'/'+img_name+'.jpg')\n",
    "        \n",
    "        driver.back()\n",
    "        driver.implicitly_wait(3)\n",
    "        data.append(title)\n",
    "        data.append(path+'/'+img_name+'.jpg')\n",
    "        data.append(hashtag_list)\n",
    "        \n",
    "        return data"
   ]
  },
  {
   "cell_type": "markdown",
   "id": "2056026f-29ee-4a84-84b7-acc56bc25a97",
   "metadata": {},
   "source": [
    "# 데이터 추출"
   ]
  },
  {
   "cell_type": "code",
   "execution_count": 5,
   "id": "0bd57e8c-ad1f-43ac-a299-57e429926e84",
   "metadata": {},
   "outputs": [],
   "source": [
    "page_num = 20 # 추출할 페이지 분량 (페이지 당 60개)"
   ]
  },
  {
   "cell_type": "code",
   "execution_count": 11,
   "id": "93ac9fd9-1567-46f8-a897-f6883f717735",
   "metadata": {},
   "outputs": [],
   "source": [
    "for j in range(12, page_num+1):\n",
    "    driver.get(f\"https://store.musinsa.com/app/codimap/lists?style_type=&tag_no=&brand=&display_cnt=60&list_kind=big&sort=date&page={j}\")\n",
    "    time.sleep(2)\n",
    "    if j == 12:\n",
    "        s = 11\n",
    "    else:\n",
    "        s = 1\n",
    "    for i in range(s, 61):\n",
    "        time.sleep(2)    \n",
    "        samples.append(get_sample(i, img_name = f'image_{(j-1)*60+i}'))"
   ]
  },
  {
   "cell_type": "markdown",
   "id": "e139dbd7-f61d-4784-859a-591a10d012a9",
   "metadata": {},
   "source": [
    "# ndarray로 바꾸어 형태 확인"
   ]
  },
  {
   "cell_type": "code",
   "execution_count": 12,
   "id": "cd4f9a9b-4b92-49b9-9458-d5d9aaf03327",
   "metadata": {},
   "outputs": [
    {
     "name": "stderr",
     "output_type": "stream",
     "text": [
      "/var/folders/_r/h97z5hwj0g79ns0tlws44lyw0000gn/T/ipykernel_59157/499109790.py:1: VisibleDeprecationWarning: Creating an ndarray from ragged nested sequences (which is a list-or-tuple of lists-or-tuples-or ndarrays with different lengths or shapes) is deprecated. If you meant to do this, you must specify 'dtype=object' when creating the ndarray.\n",
      "  samples = np.array(samples)\n"
     ]
    }
   ],
   "source": [
    "samples = np.array(samples)"
   ]
  },
  {
   "cell_type": "code",
   "execution_count": 13,
   "id": "6da98ed4-9ff6-43f7-a5e4-3b07fd924011",
   "metadata": {},
   "outputs": [
    {
     "data": {
      "text/plain": [
       "(1200, 3)"
      ]
     },
     "execution_count": 13,
     "metadata": {},
     "output_type": "execute_result"
    }
   ],
   "source": [
    "samples.shape"
   ]
  },
  {
   "cell_type": "markdown",
   "id": "0a84a4f6-5472-4fe6-8860-4e7752cc3d62",
   "metadata": {},
   "source": [
    "# dataframe에 넣기"
   ]
  },
  {
   "cell_type": "code",
   "execution_count": 14,
   "id": "6b3b7218-27f4-48b3-a86a-e62bfb144e42",
   "metadata": {},
   "outputs": [],
   "source": [
    "df = pd.DataFrame(samples, columns = ['title', 'img_path', 'hashtag'])"
   ]
  },
  {
   "cell_type": "code",
   "execution_count": 15,
   "id": "742f4ee4-af08-4465-a583-4946e473d55d",
   "metadata": {},
   "outputs": [
    {
     "data": {
      "text/html": [
       "<div>\n",
       "<style scoped>\n",
       "    .dataframe tbody tr th:only-of-type {\n",
       "        vertical-align: middle;\n",
       "    }\n",
       "\n",
       "    .dataframe tbody tr th {\n",
       "        vertical-align: top;\n",
       "    }\n",
       "\n",
       "    .dataframe thead th {\n",
       "        text-align: right;\n",
       "    }\n",
       "</style>\n",
       "<table border=\"1\" class=\"dataframe\">\n",
       "  <thead>\n",
       "    <tr style=\"text-align: right;\">\n",
       "      <th></th>\n",
       "      <th>title</th>\n",
       "      <th>img_path</th>\n",
       "      <th>hashtag</th>\n",
       "    </tr>\n",
       "  </thead>\n",
       "  <tbody>\n",
       "    <tr>\n",
       "      <th>0</th>\n",
       "      <td>매일 입을래</td>\n",
       "      <td>./image/image_1.jpg</td>\n",
       "      <td>[봄, 캐주얼, 긴소매 티셔츠, 데님 팬츠, 마르디 메크르디 슈즈, 맥끌라니, 바우...</td>\n",
       "    </tr>\n",
       "    <tr>\n",
       "      <th>1</th>\n",
       "      <td>센스 있는 조합</td>\n",
       "      <td>./image/image_2.jpg</td>\n",
       "      <td>[봄, 캐주얼, 긴소매 티셔츠, 데님 팬츠, 마뗑킴, 스타디움 재킷, 아디다스, 에...</td>\n",
       "    </tr>\n",
       "    <tr>\n",
       "      <th>2</th>\n",
       "      <td>매력 만점</td>\n",
       "      <td>./image/image_3.jpg</td>\n",
       "      <td>[봄, 캐주얼, 데님 팬츠, 메타버스, 반원 아틀리에, 블루종/MA-1, 에코백, ...</td>\n",
       "    </tr>\n",
       "    <tr>\n",
       "      <th>3</th>\n",
       "      <td>우아한 자태</td>\n",
       "      <td>./image/image_4.jpg</td>\n",
       "      <td>[로맨틱, 봄, 데님 팬츠, 루시크루, 룩캐스트, 목걸이/펜던트, 밸럽, 셔츠/블라...</td>\n",
       "    </tr>\n",
       "    <tr>\n",
       "      <th>4</th>\n",
       "      <td>워너비 스타일</td>\n",
       "      <td>./image/image_5.jpg</td>\n",
       "      <td>[걸리시, 봄, 귀걸이, 낫노잉, 니트/스웨터, 로씨로씨, 마지셔우드, 미니스커트,...</td>\n",
       "    </tr>\n",
       "    <tr>\n",
       "      <th>5</th>\n",
       "      <td>깔끔한 조합</td>\n",
       "      <td>./image/image_6.jpg</td>\n",
       "      <td>[골프, 봄, 골프가방, 골프화, 니트/스웨터, 니티나, 데상트 골프, 마르디 메크...</td>\n",
       "    </tr>\n",
       "  </tbody>\n",
       "</table>\n",
       "</div>"
      ],
      "text/plain": [
       "      title             img_path  \\\n",
       "0    매일 입을래  ./image/image_1.jpg   \n",
       "1  센스 있는 조합  ./image/image_2.jpg   \n",
       "2     매력 만점  ./image/image_3.jpg   \n",
       "3    우아한 자태  ./image/image_4.jpg   \n",
       "4   워너비 스타일  ./image/image_5.jpg   \n",
       "5    깔끔한 조합  ./image/image_6.jpg   \n",
       "\n",
       "                                             hashtag  \n",
       "0  [봄, 캐주얼, 긴소매 티셔츠, 데님 팬츠, 마르디 메크르디 슈즈, 맥끌라니, 바우...  \n",
       "1  [봄, 캐주얼, 긴소매 티셔츠, 데님 팬츠, 마뗑킴, 스타디움 재킷, 아디다스, 에...  \n",
       "2  [봄, 캐주얼, 데님 팬츠, 메타버스, 반원 아틀리에, 블루종/MA-1, 에코백, ...  \n",
       "3  [로맨틱, 봄, 데님 팬츠, 루시크루, 룩캐스트, 목걸이/펜던트, 밸럽, 셔츠/블라...  \n",
       "4  [걸리시, 봄, 귀걸이, 낫노잉, 니트/스웨터, 로씨로씨, 마지셔우드, 미니스커트,...  \n",
       "5  [골프, 봄, 골프가방, 골프화, 니트/스웨터, 니티나, 데상트 골프, 마르디 메크...  "
      ]
     },
     "execution_count": 15,
     "metadata": {},
     "output_type": "execute_result"
    }
   ],
   "source": [
    "df.head(6)"
   ]
  },
  {
   "cell_type": "markdown",
   "id": "ece17186-035b-4d74-985d-e6f668cefbdc",
   "metadata": {},
   "source": [
    "# 이미지 이름과 인덱스 일치시키기"
   ]
  },
  {
   "cell_type": "code",
   "execution_count": 16,
   "id": "103db783-5f32-4843-8872-5841826eacba",
   "metadata": {},
   "outputs": [],
   "source": [
    "df.index = [i+1 for i in df.index]"
   ]
  },
  {
   "cell_type": "code",
   "execution_count": 17,
   "id": "e8b6ce6a-1001-4791-bef6-f1f144a82433",
   "metadata": {},
   "outputs": [
    {
     "data": {
      "text/html": [
       "<div>\n",
       "<style scoped>\n",
       "    .dataframe tbody tr th:only-of-type {\n",
       "        vertical-align: middle;\n",
       "    }\n",
       "\n",
       "    .dataframe tbody tr th {\n",
       "        vertical-align: top;\n",
       "    }\n",
       "\n",
       "    .dataframe thead th {\n",
       "        text-align: right;\n",
       "    }\n",
       "</style>\n",
       "<table border=\"1\" class=\"dataframe\">\n",
       "  <thead>\n",
       "    <tr style=\"text-align: right;\">\n",
       "      <th></th>\n",
       "      <th>title</th>\n",
       "      <th>img_path</th>\n",
       "      <th>hashtag</th>\n",
       "    </tr>\n",
       "  </thead>\n",
       "  <tbody>\n",
       "    <tr>\n",
       "      <th>1</th>\n",
       "      <td>매일 입을래</td>\n",
       "      <td>./image/image_1.jpg</td>\n",
       "      <td>[봄, 캐주얼, 긴소매 티셔츠, 데님 팬츠, 마르디 메크르디 슈즈, 맥끌라니, 바우...</td>\n",
       "    </tr>\n",
       "    <tr>\n",
       "      <th>2</th>\n",
       "      <td>센스 있는 조합</td>\n",
       "      <td>./image/image_2.jpg</td>\n",
       "      <td>[봄, 캐주얼, 긴소매 티셔츠, 데님 팬츠, 마뗑킴, 스타디움 재킷, 아디다스, 에...</td>\n",
       "    </tr>\n",
       "    <tr>\n",
       "      <th>3</th>\n",
       "      <td>매력 만점</td>\n",
       "      <td>./image/image_3.jpg</td>\n",
       "      <td>[봄, 캐주얼, 데님 팬츠, 메타버스, 반원 아틀리에, 블루종/MA-1, 에코백, ...</td>\n",
       "    </tr>\n",
       "    <tr>\n",
       "      <th>4</th>\n",
       "      <td>우아한 자태</td>\n",
       "      <td>./image/image_4.jpg</td>\n",
       "      <td>[로맨틱, 봄, 데님 팬츠, 루시크루, 룩캐스트, 목걸이/펜던트, 밸럽, 셔츠/블라...</td>\n",
       "    </tr>\n",
       "    <tr>\n",
       "      <th>5</th>\n",
       "      <td>워너비 스타일</td>\n",
       "      <td>./image/image_5.jpg</td>\n",
       "      <td>[걸리시, 봄, 귀걸이, 낫노잉, 니트/스웨터, 로씨로씨, 마지셔우드, 미니스커트,...</td>\n",
       "    </tr>\n",
       "  </tbody>\n",
       "</table>\n",
       "</div>"
      ],
      "text/plain": [
       "      title             img_path  \\\n",
       "1    매일 입을래  ./image/image_1.jpg   \n",
       "2  센스 있는 조합  ./image/image_2.jpg   \n",
       "3     매력 만점  ./image/image_3.jpg   \n",
       "4    우아한 자태  ./image/image_4.jpg   \n",
       "5   워너비 스타일  ./image/image_5.jpg   \n",
       "\n",
       "                                             hashtag  \n",
       "1  [봄, 캐주얼, 긴소매 티셔츠, 데님 팬츠, 마르디 메크르디 슈즈, 맥끌라니, 바우...  \n",
       "2  [봄, 캐주얼, 긴소매 티셔츠, 데님 팬츠, 마뗑킴, 스타디움 재킷, 아디다스, 에...  \n",
       "3  [봄, 캐주얼, 데님 팬츠, 메타버스, 반원 아틀리에, 블루종/MA-1, 에코백, ...  \n",
       "4  [로맨틱, 봄, 데님 팬츠, 루시크루, 룩캐스트, 목걸이/펜던트, 밸럽, 셔츠/블라...  \n",
       "5  [걸리시, 봄, 귀걸이, 낫노잉, 니트/스웨터, 로씨로씨, 마지셔우드, 미니스커트,...  "
      ]
     },
     "execution_count": 17,
     "metadata": {},
     "output_type": "execute_result"
    }
   ],
   "source": [
    "df.head()"
   ]
  },
  {
   "cell_type": "markdown",
   "id": "da260760-6763-4134-be9c-d657bef789dc",
   "metadata": {},
   "source": [
    "# 결측치, 형태 확인"
   ]
  },
  {
   "cell_type": "code",
   "execution_count": 18,
   "id": "4bed14d7-79b2-475b-a819-dfce636ede87",
   "metadata": {},
   "outputs": [
    {
     "data": {
      "text/plain": [
       "title       0\n",
       "img_path    0\n",
       "hashtag     0\n",
       "dtype: int64"
      ]
     },
     "execution_count": 18,
     "metadata": {},
     "output_type": "execute_result"
    }
   ],
   "source": [
    "df.isnull().sum()"
   ]
  },
  {
   "cell_type": "code",
   "execution_count": 19,
   "id": "b9d509e1-5f67-4ec4-96df-6ddd20d85622",
   "metadata": {},
   "outputs": [
    {
     "data": {
      "text/plain": [
       "(1200, 3)"
      ]
     },
     "execution_count": 19,
     "metadata": {},
     "output_type": "execute_result"
    }
   ],
   "source": [
    "df.shape"
   ]
  },
  {
   "cell_type": "code",
   "execution_count": 20,
   "id": "e410432f-a0ca-4574-806d-eef149c5fc11",
   "metadata": {},
   "outputs": [],
   "source": [
    "df.to_csv('data.csv', sep=',', na_rep='NaN')"
   ]
  }
 ],
 "metadata": {
  "interpreter": {
   "hash": "b3ccaa1a580439d8033ac5775d938367be835c1367f2de8d2dfb54be9cb493f3"
  },
  "kernelspec": {
   "display_name": "Python 3 (ipykernel)",
   "language": "python",
   "name": "python3"
  },
  "language_info": {
   "codemirror_mode": {
    "name": "ipython",
    "version": 3
   },
   "file_extension": ".py",
   "mimetype": "text/x-python",
   "name": "python",
   "nbconvert_exporter": "python",
   "pygments_lexer": "ipython3",
   "version": "3.8.16"
  }
 },
 "nbformat": 4,
 "nbformat_minor": 5
}
