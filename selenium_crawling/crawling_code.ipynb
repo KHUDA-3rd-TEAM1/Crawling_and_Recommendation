{
 "cells": [
  {
   "cell_type": "markdown",
   "id": "9ac8cb85-5211-4b9d-a940-c5d817724751",
   "metadata": {},
   "source": [
    "# 모듈 임포트"
   ]
  },
  {
   "cell_type": "code",
   "execution_count": 74,
   "id": "db56364c-9ee7-47ba-a71a-9b67ca8c9e64",
   "metadata": {},
   "outputs": [],
   "source": [
    "from selenium import webdriver\n",
    "from selenium.webdriver.common.keys import Keys\n",
    "import time\n",
    "import os\n",
    "import requests\n",
    "from PIL import Image\n",
    "import io\n",
    "import numpy as np\n",
    "import pandas as pd\n",
    "from selenium.webdriver.common.keys import Keys\n",
    "from selenium.webdriver.common.by import By"
   ]
  },
  {
   "cell_type": "markdown",
   "id": "dc2630ab-cb64-4629-b002-30c26ab7bb20",
   "metadata": {},
   "source": [
    "# chromed driver 불러오기"
   ]
  },
  {
   "cell_type": "code",
   "execution_count": 75,
   "id": "a49fc3d2-23cc-400f-b749-a1a7a06b96b7",
   "metadata": {},
   "outputs": [],
   "source": [
    "os.chmod('/Users/jeongdaegyun/Desktop/selenium_crawling/chromedriver_mac_arm64/chromedriver', 0o755)\n",
    "\n",
    "driver = webdriver.Chrome(executable_path=\"/Users/jeongdaegyun/Desktop/selenium_crawling/chromedriver_mac_arm64/chromedriver\")"
   ]
  },
  {
   "cell_type": "markdown",
   "id": "cb7e2a2b-233f-4890-add6-d8322433d5c8",
   "metadata": {},
   "source": [
    "# 무신사 코디맵으로 이동"
   ]
  },
  {
   "cell_type": "code",
   "execution_count": 76,
   "id": "6c70de1f-9324-40be-9451-381988111220",
   "metadata": {},
   "outputs": [],
   "source": [
    "driver.get(\"https://store.musinsa.com/app/codimap/lists?style_type=&tag_no=&brand=&display_cnt=60&list_kind=big&sort=date&page=1\")\n",
    "driver.implicitly_wait(3)"
   ]
  },
  {
   "cell_type": "markdown",
   "id": "9cc23a6b-cbfb-4273-be7f-e7bf475d9a35",
   "metadata": {},
   "source": [
    "# 데이터프레임의 한 행에 해당하는 샘플을 추출하는 함수"
   ]
  },
  {
   "cell_type": "code",
   "execution_count": 77,
   "id": "9b7edc81-7073-4779-bfde-99170008e24a",
   "metadata": {},
   "outputs": [],
   "source": [
    "# num: 한 페이지의 코디는 1~60까지 인덱싱되어있음 \n",
    "# img_name: 저장할 이미지의 이름\n",
    "# path: 저장할 경로 (기본은 같은 경로의 image라는 폴더)\n",
    "\n",
    "def get_sample(num, img_name = None, path = './image'):\n",
    "    \n",
    "    # sample이 담길 list\n",
    "    data = []\n",
    "    \n",
    "    # 페이지 이동\n",
    "    element = driver.find_element(By.XPATH, f'/html/body/div[3]/div[3]/form/div[4]/div/ul/li[{num}]/div[2]/a/strong')\n",
    "    driver.execute_script(\"arguments[0].click();\", element)\n",
    "    \n",
    "    # 제목 추출\n",
    "    title = driver.find_element(By.XPATH, '//*[@id=\"style_info\"]/h2').text\n",
    "    \n",
    "    # 코디에 대한 설명 추출\n",
    "    description = driver.find_element(By.XPATH, '//*[@id=\"style_info\"]/div[1]/p').text\n",
    "    \n",
    "    \n",
    "    if img_name == None:\n",
    "        raise Exception('img_name 인자가 없습니다!')\n",
    "    else:    \n",
    "        #이미지 url 추출\n",
    "        src = driver.find_element(By.CLASS_NAME, 'photo').get_attribute('src')\n",
    "\n",
    "        # GET 요청으로 이미지 데이터 가져오기\n",
    "        response = requests.get(src)\n",
    "\n",
    "        # 가져온 데이터를 이미지 파일로 변환하기\n",
    "        image = Image.open(io.BytesIO(response.content))\n",
    "\n",
    "        # 이미지 파일로 저장하기\n",
    "        image.save(path+'/'+img_name+'.jpg')\n",
    "        \n",
    "        driver.back()\n",
    "        driver.implicitly_wait(3)\n",
    "        data.append(title)\n",
    "        data.append(path+'/'+img_name+'.jpg')\n",
    "        data.append(description)\n",
    "        \n",
    "        return data"
   ]
  },
  {
   "cell_type": "markdown",
   "id": "2056026f-29ee-4a84-84b7-acc56bc25a97",
   "metadata": {},
   "source": [
    "# 데이터 추출"
   ]
  },
  {
   "cell_type": "code",
   "execution_count": 78,
   "id": "0bd57e8c-ad1f-43ac-a299-57e429926e84",
   "metadata": {},
   "outputs": [],
   "source": [
    "page_num = 20 # 추출할 페이지 분량 (페이지 당 60개)"
   ]
  },
  {
   "cell_type": "code",
   "execution_count": 79,
   "id": "93ac9fd9-1567-46f8-a897-f6883f717735",
   "metadata": {},
   "outputs": [
    {
     "ename": "WebDriverException",
     "evalue": "Message: unknown error: session deleted because of page crash\nfrom unknown error: cannot determine loading status\nfrom tab crashed\n  (Session info: chrome=110.0.5481.177)\n",
     "output_type": "error",
     "traceback": [
      "\u001b[0;31m---------------------------------------------------------------------------\u001b[0m",
      "\u001b[0;31mWebDriverException\u001b[0m                        Traceback (most recent call last)",
      "Cell \u001b[0;32mIn[79], line 6\u001b[0m\n\u001b[1;32m      4\u001b[0m driver\u001b[38;5;241m.\u001b[39mimplicitly_wait(\u001b[38;5;241m3\u001b[39m)\n\u001b[1;32m      5\u001b[0m \u001b[38;5;28;01mfor\u001b[39;00m i \u001b[38;5;129;01min\u001b[39;00m \u001b[38;5;28mrange\u001b[39m(\u001b[38;5;241m1\u001b[39m, \u001b[38;5;241m61\u001b[39m):    \n\u001b[0;32m----> 6\u001b[0m     samples\u001b[38;5;241m.\u001b[39mappend(\u001b[43mget_sample\u001b[49m\u001b[43m(\u001b[49m\u001b[43mi\u001b[49m\u001b[43m,\u001b[49m\u001b[43m \u001b[49m\u001b[43mimg_name\u001b[49m\u001b[43m \u001b[49m\u001b[38;5;241;43m=\u001b[39;49m\u001b[43m \u001b[49m\u001b[38;5;124;43mf\u001b[39;49m\u001b[38;5;124;43m'\u001b[39;49m\u001b[38;5;124;43mimage_\u001b[39;49m\u001b[38;5;132;43;01m{\u001b[39;49;00m\u001b[43m(\u001b[49m\u001b[43mj\u001b[49m\u001b[38;5;241;43m-\u001b[39;49m\u001b[38;5;241;43m1\u001b[39;49m\u001b[43m)\u001b[49m\u001b[38;5;241;43m*\u001b[39;49m\u001b[38;5;241;43m60\u001b[39;49m\u001b[38;5;241;43m+\u001b[39;49m\u001b[43mi\u001b[49m\u001b[38;5;132;43;01m}\u001b[39;49;00m\u001b[38;5;124;43m'\u001b[39;49m\u001b[43m)\u001b[49m)\n",
      "Cell \u001b[0;32mIn[77], line 12\u001b[0m, in \u001b[0;36mget_sample\u001b[0;34m(num, img_name, path)\u001b[0m\n\u001b[1;32m     10\u001b[0m \u001b[38;5;66;03m# 페이지 이동\u001b[39;00m\n\u001b[1;32m     11\u001b[0m element \u001b[38;5;241m=\u001b[39m driver\u001b[38;5;241m.\u001b[39mfind_element(By\u001b[38;5;241m.\u001b[39mXPATH, \u001b[38;5;124mf\u001b[39m\u001b[38;5;124m'\u001b[39m\u001b[38;5;124m/html/body/div[3]/div[3]/form/div[4]/div/ul/li[\u001b[39m\u001b[38;5;132;01m{\u001b[39;00mnum\u001b[38;5;132;01m}\u001b[39;00m\u001b[38;5;124m]/div[2]/a/strong\u001b[39m\u001b[38;5;124m'\u001b[39m)\n\u001b[0;32m---> 12\u001b[0m \u001b[43mdriver\u001b[49m\u001b[38;5;241;43m.\u001b[39;49m\u001b[43mexecute_script\u001b[49m\u001b[43m(\u001b[49m\u001b[38;5;124;43m\"\u001b[39;49m\u001b[38;5;124;43marguments[0].click();\u001b[39;49m\u001b[38;5;124;43m\"\u001b[39;49m\u001b[43m,\u001b[49m\u001b[43m \u001b[49m\u001b[43melement\u001b[49m\u001b[43m)\u001b[49m\n\u001b[1;32m     14\u001b[0m \u001b[38;5;66;03m# 제목 추출\u001b[39;00m\n\u001b[1;32m     15\u001b[0m title \u001b[38;5;241m=\u001b[39m driver\u001b[38;5;241m.\u001b[39mfind_element(By\u001b[38;5;241m.\u001b[39mXPATH, \u001b[38;5;124m'\u001b[39m\u001b[38;5;124m//*[@id=\u001b[39m\u001b[38;5;124m\"\u001b[39m\u001b[38;5;124mstyle_info\u001b[39m\u001b[38;5;124m\"\u001b[39m\u001b[38;5;124m]/h2\u001b[39m\u001b[38;5;124m'\u001b[39m)\u001b[38;5;241m.\u001b[39mtext\n",
      "File \u001b[0;32m~/opt/anaconda3/envs/tf-cert/lib/python3.8/site-packages/selenium/webdriver/remote/webdriver.py:634\u001b[0m, in \u001b[0;36mWebDriver.execute_script\u001b[0;34m(self, script, *args)\u001b[0m\n\u001b[1;32m    631\u001b[0m \u001b[38;5;28;01melse\u001b[39;00m:\n\u001b[1;32m    632\u001b[0m     command \u001b[38;5;241m=\u001b[39m Command\u001b[38;5;241m.\u001b[39mEXECUTE_SCRIPT\n\u001b[0;32m--> 634\u001b[0m \u001b[38;5;28;01mreturn\u001b[39;00m \u001b[38;5;28;43mself\u001b[39;49m\u001b[38;5;241;43m.\u001b[39;49m\u001b[43mexecute\u001b[49m\u001b[43m(\u001b[49m\u001b[43mcommand\u001b[49m\u001b[43m,\u001b[49m\u001b[43m \u001b[49m\u001b[43m{\u001b[49m\n\u001b[1;32m    635\u001b[0m \u001b[43m    \u001b[49m\u001b[38;5;124;43m'\u001b[39;49m\u001b[38;5;124;43mscript\u001b[39;49m\u001b[38;5;124;43m'\u001b[39;49m\u001b[43m:\u001b[49m\u001b[43m \u001b[49m\u001b[43mscript\u001b[49m\u001b[43m,\u001b[49m\n\u001b[1;32m    636\u001b[0m \u001b[43m    \u001b[49m\u001b[38;5;124;43m'\u001b[39;49m\u001b[38;5;124;43margs\u001b[39;49m\u001b[38;5;124;43m'\u001b[39;49m\u001b[43m:\u001b[49m\u001b[43m \u001b[49m\u001b[43mconverted_args\u001b[49m\u001b[43m}\u001b[49m\u001b[43m)\u001b[49m[\u001b[38;5;124m'\u001b[39m\u001b[38;5;124mvalue\u001b[39m\u001b[38;5;124m'\u001b[39m]\n",
      "File \u001b[0;32m~/opt/anaconda3/envs/tf-cert/lib/python3.8/site-packages/selenium/webdriver/remote/webdriver.py:321\u001b[0m, in \u001b[0;36mWebDriver.execute\u001b[0;34m(self, driver_command, params)\u001b[0m\n\u001b[1;32m    319\u001b[0m response \u001b[38;5;241m=\u001b[39m \u001b[38;5;28mself\u001b[39m\u001b[38;5;241m.\u001b[39mcommand_executor\u001b[38;5;241m.\u001b[39mexecute(driver_command, params)\n\u001b[1;32m    320\u001b[0m \u001b[38;5;28;01mif\u001b[39;00m response:\n\u001b[0;32m--> 321\u001b[0m     \u001b[38;5;28;43mself\u001b[39;49m\u001b[38;5;241;43m.\u001b[39;49m\u001b[43merror_handler\u001b[49m\u001b[38;5;241;43m.\u001b[39;49m\u001b[43mcheck_response\u001b[49m\u001b[43m(\u001b[49m\u001b[43mresponse\u001b[49m\u001b[43m)\u001b[49m\n\u001b[1;32m    322\u001b[0m     response[\u001b[38;5;124m'\u001b[39m\u001b[38;5;124mvalue\u001b[39m\u001b[38;5;124m'\u001b[39m] \u001b[38;5;241m=\u001b[39m \u001b[38;5;28mself\u001b[39m\u001b[38;5;241m.\u001b[39m_unwrap_value(\n\u001b[1;32m    323\u001b[0m         response\u001b[38;5;241m.\u001b[39mget(\u001b[38;5;124m'\u001b[39m\u001b[38;5;124mvalue\u001b[39m\u001b[38;5;124m'\u001b[39m, \u001b[38;5;28;01mNone\u001b[39;00m))\n\u001b[1;32m    324\u001b[0m     \u001b[38;5;28;01mreturn\u001b[39;00m response\n",
      "File \u001b[0;32m~/opt/anaconda3/envs/tf-cert/lib/python3.8/site-packages/selenium/webdriver/remote/errorhandler.py:242\u001b[0m, in \u001b[0;36mErrorHandler.check_response\u001b[0;34m(self, response)\u001b[0m\n\u001b[1;32m    240\u001b[0m         alert_text \u001b[38;5;241m=\u001b[39m value[\u001b[38;5;124m'\u001b[39m\u001b[38;5;124malert\u001b[39m\u001b[38;5;124m'\u001b[39m]\u001b[38;5;241m.\u001b[39mget(\u001b[38;5;124m'\u001b[39m\u001b[38;5;124mtext\u001b[39m\u001b[38;5;124m'\u001b[39m)\n\u001b[1;32m    241\u001b[0m     \u001b[38;5;28;01mraise\u001b[39;00m exception_class(message, screen, stacktrace, alert_text)\n\u001b[0;32m--> 242\u001b[0m \u001b[38;5;28;01mraise\u001b[39;00m exception_class(message, screen, stacktrace)\n",
      "\u001b[0;31mWebDriverException\u001b[0m: Message: unknown error: session deleted because of page crash\nfrom unknown error: cannot determine loading status\nfrom tab crashed\n  (Session info: chrome=110.0.5481.177)\n"
     ]
    }
   ],
   "source": [
    "samples = []\n",
    "for j in range(1, page_num+1):\n",
    "    driver.get(f\"https://store.musinsa.com/app/codimap/lists?style_type=&tag_no=&brand=&display_cnt=60&list_kind=big&sort=date&page={j}\")\n",
    "    driver.implicitly_wait(3)\n",
    "    for i in range(1, 61):    \n",
    "        samples.append(get_sample(i, img_name = f'image_{(j-1)*60+i}'))"
   ]
  },
  {
   "cell_type": "markdown",
   "id": "e139dbd7-f61d-4784-859a-591a10d012a9",
   "metadata": {},
   "source": [
    "# ndarray로 바꾸어 형태 확인"
   ]
  },
  {
   "cell_type": "code",
   "execution_count": 80,
   "id": "cd4f9a9b-4b92-49b9-9458-d5d9aaf03327",
   "metadata": {},
   "outputs": [],
   "source": [
    "samples = np.array(samples)"
   ]
  },
  {
   "cell_type": "code",
   "execution_count": 81,
   "id": "6da98ed4-9ff6-43f7-a5e4-3b07fd924011",
   "metadata": {},
   "outputs": [
    {
     "data": {
      "text/plain": [
       "(951, 3)"
      ]
     },
     "execution_count": 81,
     "metadata": {},
     "output_type": "execute_result"
    }
   ],
   "source": [
    "samples.shape"
   ]
  },
  {
   "cell_type": "markdown",
   "id": "0a84a4f6-5472-4fe6-8860-4e7752cc3d62",
   "metadata": {},
   "source": [
    "# dataframe에 넣기"
   ]
  },
  {
   "cell_type": "code",
   "execution_count": 82,
   "id": "6b3b7218-27f4-48b3-a86a-e62bfb144e42",
   "metadata": {},
   "outputs": [],
   "source": [
    "df = pd.DataFrame(samples, columns = ['title', 'img_path', 'description'])"
   ]
  },
  {
   "cell_type": "code",
   "execution_count": 83,
   "id": "742f4ee4-af08-4465-a583-4946e473d55d",
   "metadata": {},
   "outputs": [
    {
     "data": {
      "text/html": [
       "<div>\n",
       "<style scoped>\n",
       "    .dataframe tbody tr th:only-of-type {\n",
       "        vertical-align: middle;\n",
       "    }\n",
       "\n",
       "    .dataframe tbody tr th {\n",
       "        vertical-align: top;\n",
       "    }\n",
       "\n",
       "    .dataframe thead th {\n",
       "        text-align: right;\n",
       "    }\n",
       "</style>\n",
       "<table border=\"1\" class=\"dataframe\">\n",
       "  <thead>\n",
       "    <tr style=\"text-align: right;\">\n",
       "      <th></th>\n",
       "      <th>title</th>\n",
       "      <th>img_path</th>\n",
       "      <th>description</th>\n",
       "    </tr>\n",
       "  </thead>\n",
       "  <tbody>\n",
       "    <tr>\n",
       "      <th>0</th>\n",
       "      <td>언제나 좋아</td>\n",
       "      <td>./image/image_1.jpg</td>\n",
       "      <td>그래픽 디테일이 돋보이는 스웨트셔츠와 데님 팬츠를 코디하고 에코 백으로 마무리한 캐...</td>\n",
       "    </tr>\n",
       "    <tr>\n",
       "      <th>1</th>\n",
       "      <td>데일리로 즐겨</td>\n",
       "      <td>./image/image_2.jpg</td>\n",
       "      <td>컬러 배색이 돋보이는 집업과 데님 팬츠를 매치하고 크로스 백으로 완성한 캐주얼 룩</td>\n",
       "    </tr>\n",
       "    <tr>\n",
       "      <th>2</th>\n",
       "      <td>꿀 조합</td>\n",
       "      <td>./image/image_3.jpg</td>\n",
       "      <td>로고 포인트의 스웨트셔츠와 데님 팬츠를 코디하고 스니커즈로 마무리한 캐주얼 룩</td>\n",
       "    </tr>\n",
       "    <tr>\n",
       "      <th>3</th>\n",
       "      <td>편안한 꾸안꾸</td>\n",
       "      <td>./image/image_4.jpg</td>\n",
       "      <td>로고 디테일이 돋보이는 후드 티셔츠와 스웨트 팬츠를 코디하고 볼캡으로 마무리한 캐주얼 룩</td>\n",
       "    </tr>\n",
       "    <tr>\n",
       "      <th>4</th>\n",
       "      <td>단정한 매력</td>\n",
       "      <td>./image/image_5.jpg</td>\n",
       "      <td>단정한 무드의 블레이저 재킷과 슬랙스를 매치하고 토트백을 더해 연출한 포멀 룩</td>\n",
       "    </tr>\n",
       "    <tr>\n",
       "      <th>5</th>\n",
       "      <td>디테일에 집중!</td>\n",
       "      <td>./image/image_6.jpg</td>\n",
       "      <td>컬러 배색이 돋보이는 레더 재킷과 부츠 컷 팬츠를 코디하고 비니로 멋을 더한 스트릿 룩</td>\n",
       "    </tr>\n",
       "  </tbody>\n",
       "</table>\n",
       "</div>"
      ],
      "text/plain": [
       "      title             img_path  \\\n",
       "0    언제나 좋아  ./image/image_1.jpg   \n",
       "1   데일리로 즐겨  ./image/image_2.jpg   \n",
       "2      꿀 조합  ./image/image_3.jpg   \n",
       "3   편안한 꾸안꾸  ./image/image_4.jpg   \n",
       "4    단정한 매력  ./image/image_5.jpg   \n",
       "5  디테일에 집중!  ./image/image_6.jpg   \n",
       "\n",
       "                                         description  \n",
       "0  그래픽 디테일이 돋보이는 스웨트셔츠와 데님 팬츠를 코디하고 에코 백으로 마무리한 캐...  \n",
       "1      컬러 배색이 돋보이는 집업과 데님 팬츠를 매치하고 크로스 백으로 완성한 캐주얼 룩  \n",
       "2        로고 포인트의 스웨트셔츠와 데님 팬츠를 코디하고 스니커즈로 마무리한 캐주얼 룩  \n",
       "3  로고 디테일이 돋보이는 후드 티셔츠와 스웨트 팬츠를 코디하고 볼캡으로 마무리한 캐주얼 룩  \n",
       "4        단정한 무드의 블레이저 재킷과 슬랙스를 매치하고 토트백을 더해 연출한 포멀 룩  \n",
       "5   컬러 배색이 돋보이는 레더 재킷과 부츠 컷 팬츠를 코디하고 비니로 멋을 더한 스트릿 룩  "
      ]
     },
     "execution_count": 83,
     "metadata": {},
     "output_type": "execute_result"
    }
   ],
   "source": [
    "df.head(6)"
   ]
  },
  {
   "cell_type": "markdown",
   "id": "ece17186-035b-4d74-985d-e6f668cefbdc",
   "metadata": {},
   "source": [
    "# 이미지 이름과 인덱스 일치시키기"
   ]
  },
  {
   "cell_type": "code",
   "execution_count": 84,
   "id": "103db783-5f32-4843-8872-5841826eacba",
   "metadata": {},
   "outputs": [],
   "source": [
    "df.index = [i+1 for i in df.index]"
   ]
  },
  {
   "cell_type": "code",
   "execution_count": 85,
   "id": "e8b6ce6a-1001-4791-bef6-f1f144a82433",
   "metadata": {},
   "outputs": [
    {
     "data": {
      "text/html": [
       "<div>\n",
       "<style scoped>\n",
       "    .dataframe tbody tr th:only-of-type {\n",
       "        vertical-align: middle;\n",
       "    }\n",
       "\n",
       "    .dataframe tbody tr th {\n",
       "        vertical-align: top;\n",
       "    }\n",
       "\n",
       "    .dataframe thead th {\n",
       "        text-align: right;\n",
       "    }\n",
       "</style>\n",
       "<table border=\"1\" class=\"dataframe\">\n",
       "  <thead>\n",
       "    <tr style=\"text-align: right;\">\n",
       "      <th></th>\n",
       "      <th>title</th>\n",
       "      <th>img_path</th>\n",
       "      <th>description</th>\n",
       "    </tr>\n",
       "  </thead>\n",
       "  <tbody>\n",
       "    <tr>\n",
       "      <th>1</th>\n",
       "      <td>언제나 좋아</td>\n",
       "      <td>./image/image_1.jpg</td>\n",
       "      <td>그래픽 디테일이 돋보이는 스웨트셔츠와 데님 팬츠를 코디하고 에코 백으로 마무리한 캐...</td>\n",
       "    </tr>\n",
       "    <tr>\n",
       "      <th>2</th>\n",
       "      <td>데일리로 즐겨</td>\n",
       "      <td>./image/image_2.jpg</td>\n",
       "      <td>컬러 배색이 돋보이는 집업과 데님 팬츠를 매치하고 크로스 백으로 완성한 캐주얼 룩</td>\n",
       "    </tr>\n",
       "    <tr>\n",
       "      <th>3</th>\n",
       "      <td>꿀 조합</td>\n",
       "      <td>./image/image_3.jpg</td>\n",
       "      <td>로고 포인트의 스웨트셔츠와 데님 팬츠를 코디하고 스니커즈로 마무리한 캐주얼 룩</td>\n",
       "    </tr>\n",
       "    <tr>\n",
       "      <th>4</th>\n",
       "      <td>편안한 꾸안꾸</td>\n",
       "      <td>./image/image_4.jpg</td>\n",
       "      <td>로고 디테일이 돋보이는 후드 티셔츠와 스웨트 팬츠를 코디하고 볼캡으로 마무리한 캐주얼 룩</td>\n",
       "    </tr>\n",
       "    <tr>\n",
       "      <th>5</th>\n",
       "      <td>단정한 매력</td>\n",
       "      <td>./image/image_5.jpg</td>\n",
       "      <td>단정한 무드의 블레이저 재킷과 슬랙스를 매치하고 토트백을 더해 연출한 포멀 룩</td>\n",
       "    </tr>\n",
       "  </tbody>\n",
       "</table>\n",
       "</div>"
      ],
      "text/plain": [
       "     title             img_path  \\\n",
       "1   언제나 좋아  ./image/image_1.jpg   \n",
       "2  데일리로 즐겨  ./image/image_2.jpg   \n",
       "3     꿀 조합  ./image/image_3.jpg   \n",
       "4  편안한 꾸안꾸  ./image/image_4.jpg   \n",
       "5   단정한 매력  ./image/image_5.jpg   \n",
       "\n",
       "                                         description  \n",
       "1  그래픽 디테일이 돋보이는 스웨트셔츠와 데님 팬츠를 코디하고 에코 백으로 마무리한 캐...  \n",
       "2      컬러 배색이 돋보이는 집업과 데님 팬츠를 매치하고 크로스 백으로 완성한 캐주얼 룩  \n",
       "3        로고 포인트의 스웨트셔츠와 데님 팬츠를 코디하고 스니커즈로 마무리한 캐주얼 룩  \n",
       "4  로고 디테일이 돋보이는 후드 티셔츠와 스웨트 팬츠를 코디하고 볼캡으로 마무리한 캐주얼 룩  \n",
       "5        단정한 무드의 블레이저 재킷과 슬랙스를 매치하고 토트백을 더해 연출한 포멀 룩  "
      ]
     },
     "execution_count": 85,
     "metadata": {},
     "output_type": "execute_result"
    }
   ],
   "source": [
    "df.head()"
   ]
  },
  {
   "cell_type": "markdown",
   "id": "da260760-6763-4134-be9c-d657bef789dc",
   "metadata": {},
   "source": [
    "# 결측치, 형태 확인"
   ]
  },
  {
   "cell_type": "code",
   "execution_count": 86,
   "id": "4bed14d7-79b2-475b-a819-dfce636ede87",
   "metadata": {},
   "outputs": [
    {
     "data": {
      "text/plain": [
       "title          0\n",
       "img_path       0\n",
       "description    0\n",
       "dtype: int64"
      ]
     },
     "execution_count": 86,
     "metadata": {},
     "output_type": "execute_result"
    }
   ],
   "source": [
    "df.isnull().sum()"
   ]
  },
  {
   "cell_type": "code",
   "execution_count": 87,
   "id": "b9d509e1-5f67-4ec4-96df-6ddd20d85622",
   "metadata": {},
   "outputs": [
    {
     "data": {
      "text/plain": [
       "(951, 3)"
      ]
     },
     "execution_count": 87,
     "metadata": {},
     "output_type": "execute_result"
    }
   ],
   "source": [
    "df.shape"
   ]
  },
  {
   "cell_type": "code",
   "execution_count": 88,
   "id": "e410432f-a0ca-4574-806d-eef149c5fc11",
   "metadata": {},
   "outputs": [],
   "source": [
    "df.to_csv('data.csv', sep=',', na_rep='NaN')"
   ]
  },
  {
   "cell_type": "code",
   "execution_count": null,
   "id": "18acf4db-3ce9-432d-8b71-825665a9bc5b",
   "metadata": {},
   "outputs": [],
   "source": []
  }
 ],
 "metadata": {
  "kernelspec": {
   "display_name": "Python 3 (ipykernel)",
   "language": "python",
   "name": "python3"
  },
  "language_info": {
   "codemirror_mode": {
    "name": "ipython",
    "version": 3
   },
   "file_extension": ".py",
   "mimetype": "text/x-python",
   "name": "python",
   "nbconvert_exporter": "python",
   "pygments_lexer": "ipython3",
   "version": "3.8.16"
  }
 },
 "nbformat": 4,
 "nbformat_minor": 5
}
