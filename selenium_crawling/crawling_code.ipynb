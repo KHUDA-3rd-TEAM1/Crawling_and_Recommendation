{
 "cells": [
  {
   "cell_type": "markdown",
   "id": "9ac8cb85-5211-4b9d-a940-c5d817724751",
   "metadata": {},
   "source": [
    "# 모듈 임포트"
   ]
  },
  {
   "cell_type": "code",
   "execution_count": 80,
   "id": "db56364c-9ee7-47ba-a71a-9b67ca8c9e64",
   "metadata": {},
   "outputs": [],
   "source": [
    "from selenium import webdriver\n",
    "from selenium.webdriver.common.keys import Keys\n",
    "import time\n",
    "import os\n",
    "import requests\n",
    "from PIL import Image\n",
    "import io\n",
    "import numpy as np\n",
    "import pandas as pd\n",
    "from selenium.webdriver.common.keys import Keys\n",
    "from selenium.webdriver.common.by import By"
   ]
  },
  {
   "cell_type": "markdown",
   "id": "dc2630ab-cb64-4629-b002-30c26ab7bb20",
   "metadata": {},
   "source": [
    "# chromed driver 불러오기"
   ]
  },
  {
   "cell_type": "code",
   "execution_count": 81,
   "id": "a49fc3d2-23cc-400f-b749-a1a7a06b96b7",
   "metadata": {},
   "outputs": [],
   "source": [
    "os.chmod('/Users/jeongdaegyun/Desktop/Musinsa/selenium_crawling/chromedriver_mac_arm64/chromedriver', 0o755)\n",
    "\n",
    "driver = webdriver.Chrome(executable_path=\"./chromedriver_mac_arm64/chromedriver\")"
   ]
  },
  {
   "cell_type": "markdown",
   "id": "cb7e2a2b-233f-4890-add6-d8322433d5c8",
   "metadata": {},
   "source": [
    "# 무신사 코디맵으로 이동"
   ]
  },
  {
   "cell_type": "code",
   "execution_count": 82,
   "id": "6c70de1f-9324-40be-9451-381988111220",
   "metadata": {},
   "outputs": [],
   "source": [
    "driver.get(\"https://store.musinsa.com/app/codimap/lists?style_type=&tag_no=&brand=&display_cnt=60&list_kind=big&sort=date&page=1\")\n",
    "driver.implicitly_wait(3)"
   ]
  },
  {
   "cell_type": "code",
   "execution_count": 99,
   "id": "9b7edc81-7073-4779-bfde-99170008e24a",
   "metadata": {},
   "outputs": [],
   "source": [
    "\n",
    "def get_sample(num):\n",
    "    \n",
    "    # sample이 담길 list\n",
    "    data = []\n",
    "\n",
    "    # 페이지 이동\n",
    "    element = driver.find_element(By.XPATH, f'/html/body/div[3]/div[3]/form/div[4]/div/ul/li[{num}]/div[2]/a/strong')\n",
    "    driver.execute_script(\"arguments[0].click();\", element)\n",
    "    time.sleep(2)\n",
    "\n",
    "    # 스타일 추출\n",
    "    style = driver.find_element(By.XPATH, \"/html/body/div[3]/div[3]/div[5]/span\")\n",
    "\n",
    "    # url 추출\n",
    "    url = driver.current_url\n",
    "    \n",
    "    # 세부 아이템 링크\n",
    "    items = []\n",
    "    elements = driver.find_elements(By.CLASS_NAME, \"brand_item\")\n",
    "\n",
    "    item_url = [element.get_attribute(\"href\") for element in elements]\n",
    "    categories = []\n",
    "    for i in item_url:\n",
    "        driver.get(i)\n",
    "        category = driver.find_elements(By.CLASS_NAME, \"item_categories\")[0]\n",
    "        categories.append(category)\n",
    "        driver.back()\n",
    "\n",
    "\n",
    "    for i in range(len(item_url)):\n",
    "        items.append({\"url\": item_url[i], \"category\": categories[i]})\n",
    "\n",
    "    \n",
    "    driver.implicitly_wait(3)\n",
    "    data.append(url)\n",
    "    data.append(style)\n",
    "    data.append(items)\n",
    "    \n",
    "    return data"
   ]
  },
  {
   "cell_type": "markdown",
   "id": "2056026f-29ee-4a84-84b7-acc56bc25a97",
   "metadata": {},
   "source": [
    "# 데이터 추출"
   ]
  },
  {
   "cell_type": "code",
   "execution_count": 100,
   "id": "0bd57e8c-ad1f-43ac-a299-57e429926e84",
   "metadata": {},
   "outputs": [],
   "source": [
    "# 추출할 페이지 분량 (페이지 당 60개)\n",
    "start_page = 1\n",
    "end_page = 5 "
   ]
  },
  {
   "cell_type": "code",
   "execution_count": null,
   "id": "93ac9fd9-1567-46f8-a897-f6883f717735",
   "metadata": {},
   "outputs": [],
   "source": [
    "samples = []\n",
    "for j in range(1, page_num+1):\n",
    "    driver.get(f\"https://store.musinsa.com/app/codimap/lists?style_type=&tag_no=&brand=&display_cnt=60&list_kind=big&sort=date&page={j}\")\n",
    "    time.sleep(2)\n",
    "    for i in range(1, 61):   \n",
    "        samples.append(get_sample(i))\n",
    "        driver.get(f\"https://store.musinsa.com/app/codimap/lists?style_type=&tag_no=&brand=&display_cnt=60&list_kind=big&sort=date&page={j}\")\n",
    "        time.sleep(2) \n",
    "        print(i)"
   ]
  }
 ],
 "metadata": {
  "interpreter": {
   "hash": "b3ccaa1a580439d8033ac5775d938367be835c1367f2de8d2dfb54be9cb493f3"
  },
  "kernelspec": {
   "display_name": "Python 3 (ipykernel)",
   "language": "python",
   "name": "python3"
  },
  "language_info": {
   "codemirror_mode": {
    "name": "ipython",
    "version": 3
   },
   "file_extension": ".py",
   "mimetype": "text/x-python",
   "name": "python",
   "nbconvert_exporter": "python",
   "pygments_lexer": "ipython3",
   "version": "3.8.16"
  }
 },
 "nbformat": 4,
 "nbformat_minor": 5
}
