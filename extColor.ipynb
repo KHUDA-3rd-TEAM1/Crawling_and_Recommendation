{
 "cells": [
  {
   "cell_type": "code",
   "execution_count": 1,
   "id": "f969c6fd-4a01-4c2d-bdac-f8db9c5bc41b",
   "metadata": {},
   "outputs": [],
   "source": [
    "import extcolors"
   ]
  },
  {
   "cell_type": "code",
   "execution_count": 2,
   "id": "c06f8888-2f99-45d0-89fc-254c45cce478",
   "metadata": {},
   "outputs": [
    {
     "name": "stdout",
     "output_type": "stream",
     "text": [
      "[((196, 191, 187), 496203), ((13, 13, 13), 230255), ((83, 83, 91), 8058), ((170, 52, 74), 246), ((67, 0, 1), 95), ((220, 53, 47), 35), ((36, 18, 78), 28), ((121, 127, 223), 23), ((238, 152, 155), 18), ((56, 171, 200), 16), ((153, 81, 131), 10), ((106, 71, 31), 6), ((194, 255, 216), 3), ((0, 47, 10), 3), ((28, 51, 179), 1)]\n",
      "735000\n"
     ]
    }
   ],
   "source": [
    "import PIL\n",
    "img = PIL.Image.open(\"selenium_crawling/image/image_2.jpg\")\n",
    "colors, pixel_count = extcolors.extract_from_image(img)\n",
    "print(colors)\n",
    "print(pixel_count)"
   ]
  },
  {
   "cell_type": "code",
   "execution_count": 3,
   "id": "6be26412-a8ed-4849-bff8-b392245be0ac",
   "metadata": {},
   "outputs": [
    {
     "name": "stdout",
     "output_type": "stream",
     "text": [
      "(196, 191, 187) : 67.51% (496203)\n",
      "(13, 13, 13) : 31.33% (230255)\n",
      "(83, 83, 91) : 1.1% (8058)\n",
      "(170, 52, 74) : 0.03% (246)\n",
      "(67, 0, 1) : 0.01% (95)\n",
      "(220, 53, 47) : 0.0% (35)\n",
      "(36, 18, 78) : 0.0% (28)\n",
      "(121, 127, 223) : 0.0% (23)\n",
      "(238, 152, 155) : 0.0% (18)\n",
      "(56, 171, 200) : 0.0% (16)\n",
      "(153, 81, 131) : 0.0% (10)\n",
      "(106, 71, 31) : 0.0% (6)\n",
      "(194, 255, 216) : 0.0% (3)\n",
      "(0, 47, 10) : 0.0% (3)\n",
      "(28, 51, 179) : 0.0% (1)\n",
      "Pixels in output: 735000 of 735000\n"
     ]
    }
   ],
   "source": [
    "pixel_output = 0\n",
    "for c in colors:\n",
    "    pixel_output += c[1]\n",
    "    print(f'{c[0]} : {round((c[1] / pixel_count) * 100, 2)}% ({c[1]})')\n",
    "print(f'Pixels in output: {pixel_output} of {pixel_count}')\n"
   ]
  }
 ],
 "metadata": {
  "interpreter": {
   "hash": "b3ccaa1a580439d8033ac5775d938367be835c1367f2de8d2dfb54be9cb493f3"
  },
  "kernelspec": {
   "display_name": "Python 3.8.16 ('tf-cert')",
   "language": "python",
   "name": "python3"
  },
  "language_info": {
   "codemirror_mode": {
    "name": "ipython",
    "version": 3
   },
   "file_extension": ".py",
   "mimetype": "text/x-python",
   "name": "python",
   "nbconvert_exporter": "python",
   "pygments_lexer": "ipython3",
   "version": "3.8.16"
  }
 },
 "nbformat": 4,
 "nbformat_minor": 5
}
