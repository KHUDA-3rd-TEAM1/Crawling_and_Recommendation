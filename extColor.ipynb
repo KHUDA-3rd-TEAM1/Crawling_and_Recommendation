{
 "cells": [
  {
   "cell_type": "code",
   "execution_count": 27,
   "id": "f969c6fd-4a01-4c2d-bdac-f8db9c5bc41b",
   "metadata": {},
   "outputs": [],
   "source": [
    "import extcolors\n",
    "import PIL\n",
    "from PIL import Image\n",
    "import numpy as np\n",
    "import matplotlib.pyplot as plt\n",
    "import cv2"
   ]
  },
  {
   "cell_type": "code",
   "execution_count": 53,
   "id": "92a220bf",
   "metadata": {},
   "outputs": [],
   "source": [
    "def kmeansColorCluster(image, clusters, rounds):\n",
    "        \"\"\"\n",
    "        Parameters\n",
    "            image <np.ndarray> : 이미지\n",
    "            clusters <int> : 클러스터 개수 (군집화 개수)\n",
    "            rounds <int> : 알고리즘을 몇 번 실행할지 (보통 1)\n",
    "        returns\n",
    "            clustered Image <np.ndarray> : 결과 이미지\n",
    "            SSE <float> : 오차 제곱 합\n",
    "        \"\"\"\n",
    "        \n",
    "        height, width = image.shape[:2]\n",
    "        samples = np.zeros([ height * width, 3 ], dtype=np.float32)\n",
    "        \n",
    "        count = 0\n",
    "        for x in range(height):\n",
    "            for y in range(width):\n",
    "                samples[count] = image[x][y]\n",
    "                count += 1\n",
    "        \n",
    "        '''\n",
    "        # compactness : SSE = 오차 제곱 합\n",
    "        # labels : 레이블 배열 (0과 1로 표현)\n",
    "        # centers : 클러스터 중심 좌표 (k개로 군집화된 색상들)\n",
    "        '''\n",
    "        compactness, labels, centers = cv2.kmeans(\n",
    "                    samples, # 비지도 학습 데이터 정렬\n",
    "                    clusters, # 군집화 개수\n",
    "                    None, # 각 샘플의 군집 번호 정렬\n",
    "                    # criteria : kmeans 알고리즘 반복 종료 기준 설정\n",
    "                    criteria = (cv2.TERM_CRITERIA_EPS + cv2.TERM_CRITERIA_MAX_ITER, \n",
    "                                10000, # max_iter \n",
    "                                0.0001), # epsilon \n",
    "                    # attempts : 다른 초기 중앙값을 이용해 반복 실행할 횟수\n",
    "                    attempts = rounds, \n",
    "                    # flags : 초기 중앙값 설정 방법\n",
    "                    flags = cv2.KMEANS_PP_CENTERS)\n",
    "        \n",
    "        centers = np.uint8(centers)\n",
    "        res = centers[labels.flatten()]\n",
    "        \n",
    "        # 결과 이미지, 초기 중앙값, 오차제곱합 반환\n",
    "        return res.reshape((image.shape))\n"
   ]
  },
  {
   "cell_type": "code",
   "execution_count": 74,
   "id": "420e2d2c",
   "metadata": {},
   "outputs": [],
   "source": [
    "def extract_colors(n):\n",
    "    image = Image.open(f\"selenium_crawling/image/image_{n}.jpg\")\n",
    "    \n",
    "    # 이미지 자르기 crop함수 이용 ex. crop(left,up, rigth, down)\n",
    "    croppedImage=image.crop((10,10,100,100))\n",
    "    image1 = image.crop((20,262, 680, 787))\n",
    "    \n",
    "    image1 = kmeansColorCluster(np.array(image1), 6, 1)\n",
    "    image1 = Image.fromarray(image1)\n",
    "\n",
    "    croppedImage = kmeansColorCluster(np.array(croppedImage), 6, 1)\n",
    "    croppedImage = Image.fromarray(croppedImage)\n",
    "\n",
    "\n",
    "    colors_c, _ = extcolors.extract_from_image(croppedImage)\n",
    "    colors, _ =  extcolors.extract_from_image(image1)\n",
    "    color_list = [i[0] for i in colors if i[0] != colors_c[0][0]]\n",
    "    color_arr = np.array(color_list)\n",
    "    return color_arr"
   ]
  },
  {
   "cell_type": "code",
   "execution_count": 75,
   "id": "845fb079",
   "metadata": {},
   "outputs": [],
   "source": [
    "def _color_to_pic(color, size=(32, 32)):\n",
    "    color_arr = [color for i in range(size[1])]\n",
    "    color_arr = [color_arr for i in range(size[0])]\n",
    "    color_arr = np.array(color_arr)\n",
    "    return color_arr"
   ]
  },
  {
   "cell_type": "code",
   "execution_count": 76,
   "id": "89de855f",
   "metadata": {},
   "outputs": [],
   "source": [
    "def print_palette(color_arr):\n",
    "    n = len(color_arr)\n",
    "    for i, color in enumerate(color_arr):\n",
    "        arrayToImage = Image.fromarray(_color_to_pic(color), mode='RGB')\n",
    "        plt.subplot(1, n, i+1)\n",
    "        plt.imshow(_color_to_pic(color))\n"
   ]
  },
  {
   "cell_type": "code",
   "execution_count": 77,
   "id": "46f71d0a",
   "metadata": {},
   "outputs": [
    {
     "data": {
      "image/png": "[encoded data removed]",
      "text/plain": [
       "<Figure size 640x480 with 3 Axes>"
      ]
     },
     "metadata": {},
     "output_type": "display_data"
    }
   ],
   "source": [
    "extract_colors(1)\n",
    "print_palette(extract_colors(1))"
   ]
  },
  {
   "cell_type": "code",
   "execution_count": null,
   "id": "1bf937c1",
   "metadata": {},
   "outputs": [],
   "source": []
  }
 ],
 "metadata": {
  "interpreter": {
   "hash": "b3ccaa1a580439d8033ac5775d938367be835c1367f2de8d2dfb54be9cb493f3"
  },
  "kernelspec": {
   "display_name": "Python 3.8.16 ('tf-cert')",
   "language": "python",
   "name": "python3"
  },
  "language_info": {
   "codemirror_mode": {
    "name": "ipython",
    "version": 3
   },
   "file_extension": ".py",
   "mimetype": "text/x-python",
   "name": "python",
   "nbconvert_exporter": "python",
   "pygments_lexer": "ipython3",
   "version": "3.8.16"
  }
 },
 "nbformat": 4,
 "nbformat_minor": 5
}
